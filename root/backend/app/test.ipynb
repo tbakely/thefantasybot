{
 "cells": [
  {
   "cell_type": "code",
   "execution_count": 1,
   "metadata": {},
   "outputs": [],
   "source": [
    "import psycopg2"
   ]
  },
  {
   "cell_type": "code",
   "execution_count": 9,
   "metadata": {},
   "outputs": [
    {
     "name": "stdout",
     "output_type": "stream",
     "text": [
      "Connection successful.\n"
     ]
    }
   ],
   "source": [
    "while True:\n",
    "    try:\n",
    "        conn = psycopg2.connect(\n",
    "            \"dbname=thefantasybot user=tbakely\"\n",
    "        )\n",
    "        cursor = conn.cursor()\n",
    "        print(\"Connection successful.\")\n",
    "        break\n",
    "    except Exception as error:\n",
    "        print(\"Connection failed.\")\n",
    "        print(\"Error: \", error)"
   ]
  },
  {
   "cell_type": "code",
   "execution_count": null,
   "metadata": {},
   "outputs": [],
   "source": []
  },
  {
   "cell_type": "code",
   "execution_count": null,
   "metadata": {},
   "outputs": [],
   "source": []
  }
 ],
 "metadata": {
  "kernelspec": {
   "display_name": "Python 3.11.0 ('.venv': venv)",
   "language": "python",
   "name": "python3"
  },
  "language_info": {
   "codemirror_mode": {
    "name": "ipython",
    "version": 3
   },
   "file_extension": ".py",
   "mimetype": "text/x-python",
   "name": "python",
   "nbconvert_exporter": "python",
   "pygments_lexer": "ipython3",
   "version": "3.11.0"
  },
  "orig_nbformat": 4,
  "vscode": {
   "interpreter": {
    "hash": "a9602c78c44dba907f9a872a7171927b30db4d9f68f7838b2d845dbd2dc8769d"
   }
  }
 },
 "nbformat": 4,
 "nbformat_minor": 2
}
